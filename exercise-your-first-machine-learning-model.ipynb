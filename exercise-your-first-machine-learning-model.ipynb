{
 "cells": [
  {
   "cell_type": "markdown",
   "id": "110c1834",
   "metadata": {
    "papermill": {
     "duration": 0.021357,
     "end_time": "2022-03-31T07:12:47.653733",
     "exception": false,
     "start_time": "2022-03-31T07:12:47.632376",
     "status": "completed"
    },
    "tags": []
   },
   "source": [
    "**This notebook is an exercise in the [Introduction to Machine Learning](https://www.kaggle.com/learn/intro-to-machine-learning) course.  You can reference the tutorial at [this link](https://www.kaggle.com/dansbecker/your-first-machine-learning-model).**\n",
    "\n",
    "---\n"
   ]
  },
  {
   "cell_type": "markdown",
   "id": "4a85569a",
   "metadata": {
    "papermill": {
     "duration": 0.019527,
     "end_time": "2022-03-31T07:12:47.696222",
     "exception": false,
     "start_time": "2022-03-31T07:12:47.676695",
     "status": "completed"
    },
    "tags": []
   },
   "source": [
    "## Recap\n",
    "So far, you have loaded your data and reviewed it with the following code. Run this cell to set up your coding environment where the previous step left off."
   ]
  },
  {
   "cell_type": "code",
   "execution_count": 1,
   "id": "5d7f6dac",
   "metadata": {
    "execution": {
     "iopub.execute_input": "2022-03-31T07:12:47.741744Z",
     "iopub.status.busy": "2022-03-31T07:12:47.740399Z",
     "iopub.status.idle": "2022-03-31T07:12:48.952210Z",
     "shell.execute_reply": "2022-03-31T07:12:48.950834Z",
     "shell.execute_reply.started": "2022-03-31T06:42:21.704259Z"
    },
    "papermill": {
     "duration": 1.236142,
     "end_time": "2022-03-31T07:12:48.952444",
     "exception": false,
     "start_time": "2022-03-31T07:12:47.716302",
     "status": "completed"
    },
    "tags": []
   },
   "outputs": [
    {
     "name": "stdout",
     "output_type": "stream",
     "text": [
      "Setup Complete\n"
     ]
    }
   ],
   "source": [
    "# Code you have previously used to load data\n",
    "import pandas as pd\n",
    "\n",
    "# Path of the file to read\n",
    "iowa_file_path = '../input/home-data-for-ml-course/train.csv'\n",
    "\n",
    "home_data = pd.read_csv(iowa_file_path)\n",
    "\n",
    "# Set up code checking\n",
    "from learntools.core import binder\n",
    "binder.bind(globals())\n",
    "from learntools.machine_learning.ex3 import *\n",
    "\n",
    "print(\"Setup Complete\")"
   ]
  },
  {
   "cell_type": "markdown",
   "id": "e2657cbb",
   "metadata": {
    "papermill": {
     "duration": 0.029157,
     "end_time": "2022-03-31T07:12:49.013901",
     "exception": false,
     "start_time": "2022-03-31T07:12:48.984744",
     "status": "completed"
    },
    "tags": []
   },
   "source": [
    "# Exercises\n",
    "\n",
    "## Step 1: Specify Prediction Target\n",
    "Select the target variable, which corresponds to the sales price. Save this to a new variable called `y`. You'll need to print a list of the columns to find the name of the column you need.\n"
   ]
  },
  {
   "cell_type": "code",
   "execution_count": 2,
   "id": "b7b43386",
   "metadata": {
    "execution": {
     "iopub.execute_input": "2022-03-31T07:12:49.073859Z",
     "iopub.status.busy": "2022-03-31T07:12:49.073116Z",
     "iopub.status.idle": "2022-03-31T07:12:49.076458Z",
     "shell.execute_reply": "2022-03-31T07:12:49.077009Z",
     "shell.execute_reply.started": "2022-03-31T07:02:03.260267Z"
    },
    "papermill": {
     "duration": 0.038589,
     "end_time": "2022-03-31T07:12:49.077206",
     "exception": false,
     "start_time": "2022-03-31T07:12:49.038617",
     "status": "completed"
    },
    "tags": []
   },
   "outputs": [
    {
     "data": {
      "text/plain": [
       "Index(['Id', 'MSSubClass', 'MSZoning', 'LotFrontage', 'LotArea', 'Street',\n",
       "       'Alley', 'LotShape', 'LandContour', 'Utilities', 'LotConfig',\n",
       "       'LandSlope', 'Neighborhood', 'Condition1', 'Condition2', 'BldgType',\n",
       "       'HouseStyle', 'OverallQual', 'OverallCond', 'YearBuilt', 'YearRemodAdd',\n",
       "       'RoofStyle', 'RoofMatl', 'Exterior1st', 'Exterior2nd', 'MasVnrType',\n",
       "       'MasVnrArea', 'ExterQual', 'ExterCond', 'Foundation', 'BsmtQual',\n",
       "       'BsmtCond', 'BsmtExposure', 'BsmtFinType1', 'BsmtFinSF1',\n",
       "       'BsmtFinType2', 'BsmtFinSF2', 'BsmtUnfSF', 'TotalBsmtSF', 'Heating',\n",
       "       'HeatingQC', 'CentralAir', 'Electrical', '1stFlrSF', '2ndFlrSF',\n",
       "       'LowQualFinSF', 'GrLivArea', 'BsmtFullBath', 'BsmtHalfBath', 'FullBath',\n",
       "       'HalfBath', 'BedroomAbvGr', 'KitchenAbvGr', 'KitchenQual',\n",
       "       'TotRmsAbvGrd', 'Functional', 'Fireplaces', 'FireplaceQu', 'GarageType',\n",
       "       'GarageYrBlt', 'GarageFinish', 'GarageCars', 'GarageArea', 'GarageQual',\n",
       "       'GarageCond', 'PavedDrive', 'WoodDeckSF', 'OpenPorchSF',\n",
       "       'EnclosedPorch', '3SsnPorch', 'ScreenPorch', 'PoolArea', 'PoolQC',\n",
       "       'Fence', 'MiscFeature', 'MiscVal', 'MoSold', 'YrSold', 'SaleType',\n",
       "       'SaleCondition', 'SalePrice'],\n",
       "      dtype='object')"
      ]
     },
     "execution_count": 2,
     "metadata": {},
     "output_type": "execute_result"
    }
   ],
   "source": [
    "# print the list of columns in the dataset to find the name of the prediction target\n",
    "home_data.columns"
   ]
  },
  {
   "cell_type": "code",
   "execution_count": 3,
   "id": "33bec9c9",
   "metadata": {
    "execution": {
     "iopub.execute_input": "2022-03-31T07:12:49.128830Z",
     "iopub.status.busy": "2022-03-31T07:12:49.128085Z",
     "iopub.status.idle": "2022-03-31T07:12:49.135350Z",
     "shell.execute_reply": "2022-03-31T07:12:49.134738Z",
     "shell.execute_reply.started": "2022-03-31T07:09:35.057549Z"
    },
    "papermill": {
     "duration": 0.036971,
     "end_time": "2022-03-31T07:12:49.135525",
     "exception": false,
     "start_time": "2022-03-31T07:12:49.098554",
     "status": "completed"
    },
    "tags": []
   },
   "outputs": [
    {
     "data": {
      "application/javascript": [
       "parent.postMessage({\"jupyterEvent\": \"custom.exercise_interaction\", \"data\": {\"outcomeType\": 4, \"interactionType\": 1, \"questionType\": 2, \"questionId\": \"1_SetTarget\", \"learnToolsVersion\": \"0.3.4\", \"valueTowardsCompletion\": 0.0, \"failureMessage\": \"\", \"exceptionClass\": \"\", \"trace\": \"\"}}, \"*\")"
      ],
      "text/plain": [
       "<IPython.core.display.Javascript object>"
      ]
     },
     "metadata": {},
     "output_type": "display_data"
    },
    {
     "data": {
      "text/markdown": [
       "<span style=\"color:#ccaa33\">Check:</span> When you've updated the starter code, `check()` will tell you whether your code is correct. Remember, you must create the following variable: `y`"
      ],
      "text/plain": [
       "Check: When you've updated the starter code, `check()` will tell you whether your code is correct. Remember, you must create the following variable: `y`"
      ]
     },
     "metadata": {},
     "output_type": "display_data"
    }
   ],
   "source": [
    "Y = home_data['SalePrice']\n",
    "\n",
    "# Check your answer\n",
    "step_1.check()"
   ]
  },
  {
   "cell_type": "code",
   "execution_count": 4,
   "id": "aae9c36f",
   "metadata": {
    "collapsed": true,
    "execution": {
     "iopub.execute_input": "2022-03-31T07:12:49.185011Z",
     "iopub.status.busy": "2022-03-31T07:12:49.184339Z",
     "iopub.status.idle": "2022-03-31T07:12:49.187370Z",
     "shell.execute_reply": "2022-03-31T07:12:49.187986Z"
    },
    "jupyter": {
     "outputs_hidden": true
    },
    "papermill": {
     "duration": 0.029559,
     "end_time": "2022-03-31T07:12:49.188179",
     "exception": false,
     "start_time": "2022-03-31T07:12:49.158620",
     "status": "completed"
    },
    "tags": []
   },
   "outputs": [],
   "source": [
    "# The lines below will show you a hint or the solution.\n",
    "# step_1.hint() \n",
    "# step_1.solution()"
   ]
  },
  {
   "cell_type": "markdown",
   "id": "ff9ea568",
   "metadata": {
    "papermill": {
     "duration": 0.02252,
     "end_time": "2022-03-31T07:12:49.233742",
     "exception": false,
     "start_time": "2022-03-31T07:12:49.211222",
     "status": "completed"
    },
    "tags": []
   },
   "source": [
    "## Step 2: Create X\n",
    "Now you will create a DataFrame called `X` holding the predictive features.\n",
    "\n",
    "Since you want only some columns from the original data, you'll first create a list with the names of the columns you want in `X`.\n",
    "\n",
    "You'll use just the following columns in the list (you can copy and paste the whole list to save some typing, though you'll still need to add quotes):\n",
    "  * LotArea\n",
    "  * YearBuilt\n",
    "  * 1stFlrSF\n",
    "  * 2ndFlrSF\n",
    "  * FullBath\n",
    "  * BedroomAbvGr\n",
    "  * TotRmsAbvGrd\n",
    "\n",
    "After you've created that list of features, use it to create the DataFrame that you'll use to fit the model."
   ]
  },
  {
   "cell_type": "code",
   "execution_count": 5,
   "id": "2a363240",
   "metadata": {
    "execution": {
     "iopub.execute_input": "2022-03-31T07:12:49.290073Z",
     "iopub.status.busy": "2022-03-31T07:12:49.289306Z",
     "iopub.status.idle": "2022-03-31T07:12:49.295443Z",
     "shell.execute_reply": "2022-03-31T07:12:49.296074Z",
     "shell.execute_reply.started": "2022-03-31T07:05:31.145936Z"
    },
    "papermill": {
     "duration": 0.039487,
     "end_time": "2022-03-31T07:12:49.296275",
     "exception": false,
     "start_time": "2022-03-31T07:12:49.256788",
     "status": "completed"
    },
    "tags": []
   },
   "outputs": [
    {
     "data": {
      "application/javascript": [
       "parent.postMessage({\"jupyterEvent\": \"custom.exercise_interaction\", \"data\": {\"outcomeType\": 1, \"valueTowardsCompletion\": 0.25, \"interactionType\": 1, \"questionType\": 2, \"questionId\": \"2_SelectPredictionData\", \"learnToolsVersion\": \"0.3.4\", \"failureMessage\": \"\", \"exceptionClass\": \"\", \"trace\": \"\"}}, \"*\")"
      ],
      "text/plain": [
       "<IPython.core.display.Javascript object>"
      ]
     },
     "metadata": {},
     "output_type": "display_data"
    },
    {
     "data": {
      "text/markdown": [
       "<span style=\"color:#33cc33\">Correct</span>"
      ],
      "text/plain": [
       "Correct"
      ]
     },
     "metadata": {},
     "output_type": "display_data"
    }
   ],
   "source": [
    "# Create the list of features below\n",
    "feature_names = ['LotArea', 'YearBuilt', '1stFlrSF', '2ndFlrSF', 'FullBath', 'BedroomAbvGr', 'TotRmsAbvGrd']\n",
    "\n",
    "# Select data corresponding to features in feature_names\n",
    "X = home_data[feature_names]\n",
    "X\n",
    "# Check your answer\n",
    "step_2.check()"
   ]
  },
  {
   "cell_type": "code",
   "execution_count": 6,
   "id": "064c8cbb",
   "metadata": {
    "collapsed": true,
    "execution": {
     "iopub.execute_input": "2022-03-31T07:12:49.348829Z",
     "iopub.status.busy": "2022-03-31T07:12:49.348125Z",
     "iopub.status.idle": "2022-03-31T07:12:49.350903Z",
     "shell.execute_reply": "2022-03-31T07:12:49.351443Z"
    },
    "jupyter": {
     "outputs_hidden": true
    },
    "papermill": {
     "duration": 0.03089,
     "end_time": "2022-03-31T07:12:49.351653",
     "exception": false,
     "start_time": "2022-03-31T07:12:49.320763",
     "status": "completed"
    },
    "tags": []
   },
   "outputs": [],
   "source": [
    "# step_2.hint()\n",
    "# step_2.solution()"
   ]
  },
  {
   "cell_type": "markdown",
   "id": "b646a90a",
   "metadata": {
    "papermill": {
     "duration": 0.026229,
     "end_time": "2022-03-31T07:12:49.403199",
     "exception": false,
     "start_time": "2022-03-31T07:12:49.376970",
     "status": "completed"
    },
    "tags": []
   },
   "source": [
    "## Review Data\n",
    "Before building a model, take a quick look at **X** to verify it looks sensible"
   ]
  },
  {
   "cell_type": "code",
   "execution_count": 7,
   "id": "2212c45b",
   "metadata": {
    "execution": {
     "iopub.execute_input": "2022-03-31T07:12:49.456080Z",
     "iopub.status.busy": "2022-03-31T07:12:49.455355Z",
     "iopub.status.idle": "2022-03-31T07:12:49.493050Z",
     "shell.execute_reply": "2022-03-31T07:12:49.492440Z",
     "shell.execute_reply.started": "2022-03-31T07:06:54.503726Z"
    },
    "papermill": {
     "duration": 0.065266,
     "end_time": "2022-03-31T07:12:49.493216",
     "exception": false,
     "start_time": "2022-03-31T07:12:49.427950",
     "status": "completed"
    },
    "tags": []
   },
   "outputs": [
    {
     "name": "stdout",
     "output_type": "stream",
     "text": [
      "             LotArea    YearBuilt     1stFlrSF     2ndFlrSF     FullBath  \\\n",
      "count    1460.000000  1460.000000  1460.000000  1460.000000  1460.000000   \n",
      "mean    10516.828082  1971.267808  1162.626712   346.992466     1.565068   \n",
      "std      9981.264932    30.202904   386.587738   436.528436     0.550916   \n",
      "min      1300.000000  1872.000000   334.000000     0.000000     0.000000   \n",
      "25%      7553.500000  1954.000000   882.000000     0.000000     1.000000   \n",
      "50%      9478.500000  1973.000000  1087.000000     0.000000     2.000000   \n",
      "75%     11601.500000  2000.000000  1391.250000   728.000000     2.000000   \n",
      "max    215245.000000  2010.000000  4692.000000  2065.000000     3.000000   \n",
      "\n",
      "       BedroomAbvGr  TotRmsAbvGrd  \n",
      "count   1460.000000   1460.000000  \n",
      "mean       2.866438      6.517808  \n",
      "std        0.815778      1.625393  \n",
      "min        0.000000      2.000000  \n",
      "25%        2.000000      5.000000  \n",
      "50%        3.000000      6.000000  \n",
      "75%        3.000000      7.000000  \n",
      "max        8.000000     14.000000  \n",
      "   LotArea  YearBuilt  1stFlrSF  2ndFlrSF  FullBath  BedroomAbvGr  \\\n",
      "0     8450       2003       856       854         2             3   \n",
      "1     9600       1976      1262         0         2             3   \n",
      "2    11250       2001       920       866         2             3   \n",
      "3     9550       1915       961       756         1             3   \n",
      "4    14260       2000      1145      1053         2             4   \n",
      "\n",
      "   TotRmsAbvGrd  \n",
      "0             8  \n",
      "1             6  \n",
      "2             6  \n",
      "3             7  \n",
      "4             9  \n"
     ]
    }
   ],
   "source": [
    "# Review data\n",
    "# print description or statistics from X\n",
    "print(X.describe())\n",
    "\n",
    "# print the top few lines\n",
    "print(X.head())"
   ]
  },
  {
   "cell_type": "markdown",
   "id": "bb23243f",
   "metadata": {
    "papermill": {
     "duration": 0.024955,
     "end_time": "2022-03-31T07:12:49.544313",
     "exception": false,
     "start_time": "2022-03-31T07:12:49.519358",
     "status": "completed"
    },
    "tags": []
   },
   "source": [
    "## Step 3: Specify and Fit Model\n",
    "Create a `DecisionTreeRegressor` and save it iowa_model. Ensure you've done the relevant import from sklearn to run this command.\n",
    "\n",
    "Then fit the model you just created using the data in `X` and `y` that you saved above."
   ]
  },
  {
   "cell_type": "code",
   "execution_count": 8,
   "id": "1bab6550",
   "metadata": {
    "execution": {
     "iopub.execute_input": "2022-03-31T07:12:49.599840Z",
     "iopub.status.busy": "2022-03-31T07:12:49.599130Z",
     "iopub.status.idle": "2022-03-31T07:12:49.618272Z",
     "shell.execute_reply": "2022-03-31T07:12:49.618890Z",
     "shell.execute_reply.started": "2022-03-31T07:09:56.573937Z"
    },
    "papermill": {
     "duration": 0.048884,
     "end_time": "2022-03-31T07:12:49.619093",
     "exception": false,
     "start_time": "2022-03-31T07:12:49.570209",
     "status": "completed"
    },
    "tags": []
   },
   "outputs": [
    {
     "data": {
      "application/javascript": [
       "parent.postMessage({\"jupyterEvent\": \"custom.exercise_interaction\", \"data\": {\"outcomeType\": 1, \"valueTowardsCompletion\": 0.25, \"interactionType\": 1, \"questionType\": 2, \"questionId\": \"3_CreateModel\", \"learnToolsVersion\": \"0.3.4\", \"failureMessage\": \"\", \"exceptionClass\": \"\", \"trace\": \"\"}}, \"*\")"
      ],
      "text/plain": [
       "<IPython.core.display.Javascript object>"
      ]
     },
     "metadata": {},
     "output_type": "display_data"
    },
    {
     "data": {
      "text/markdown": [
       "<span style=\"color:#33cc33\">Correct</span>"
      ],
      "text/plain": [
       "Correct"
      ]
     },
     "metadata": {},
     "output_type": "display_data"
    }
   ],
   "source": [
    "# from _ import _\n",
    "from sklearn.tree import DecisionTreeRegressor\n",
    "#specify the model. \n",
    "#For model reproducibility, set a numeric value for random_state when specifying the model\n",
    "iowa_model = DecisionTreeRegressor(random_state=1)\n",
    "\n",
    "# Fit the model\n",
    "iowa_model.fit(X, Y)\n",
    "\n",
    "# Check your answer\n",
    "step_3.check()"
   ]
  },
  {
   "cell_type": "code",
   "execution_count": 9,
   "id": "2983f26a",
   "metadata": {
    "collapsed": true,
    "execution": {
     "iopub.execute_input": "2022-03-31T07:12:49.676733Z",
     "iopub.status.busy": "2022-03-31T07:12:49.675318Z",
     "iopub.status.idle": "2022-03-31T07:12:49.678572Z",
     "shell.execute_reply": "2022-03-31T07:12:49.679245Z"
    },
    "jupyter": {
     "outputs_hidden": true
    },
    "papermill": {
     "duration": 0.033692,
     "end_time": "2022-03-31T07:12:49.679425",
     "exception": false,
     "start_time": "2022-03-31T07:12:49.645733",
     "status": "completed"
    },
    "tags": []
   },
   "outputs": [],
   "source": [
    "# step_3.hint()\n",
    "# step_3.solution()"
   ]
  },
  {
   "cell_type": "markdown",
   "id": "7822c3e6",
   "metadata": {
    "papermill": {
     "duration": 0.026518,
     "end_time": "2022-03-31T07:12:49.732876",
     "exception": false,
     "start_time": "2022-03-31T07:12:49.706358",
     "status": "completed"
    },
    "tags": []
   },
   "source": [
    "## Step 4: Make Predictions\n",
    "Make predictions with the model's `predict` command using `X` as the data. Save the results to a variable called `predictions`."
   ]
  },
  {
   "cell_type": "code",
   "execution_count": 10,
   "id": "b8a21899",
   "metadata": {
    "execution": {
     "iopub.execute_input": "2022-03-31T07:12:49.789593Z",
     "iopub.status.busy": "2022-03-31T07:12:49.788898Z",
     "iopub.status.idle": "2022-03-31T07:12:49.803430Z",
     "shell.execute_reply": "2022-03-31T07:12:49.802658Z",
     "shell.execute_reply.started": "2022-03-31T07:10:38.899012Z"
    },
    "papermill": {
     "duration": 0.04384,
     "end_time": "2022-03-31T07:12:49.803637",
     "exception": false,
     "start_time": "2022-03-31T07:12:49.759797",
     "status": "completed"
    },
    "tags": []
   },
   "outputs": [
    {
     "name": "stdout",
     "output_type": "stream",
     "text": [
      "[208500. 181500. 223500. ... 266500. 142125. 147500.]\n"
     ]
    },
    {
     "data": {
      "application/javascript": [
       "parent.postMessage({\"jupyterEvent\": \"custom.exercise_interaction\", \"data\": {\"outcomeType\": 1, \"valueTowardsCompletion\": 0.25, \"interactionType\": 1, \"questionType\": 2, \"questionId\": \"4_MakePredictions\", \"learnToolsVersion\": \"0.3.4\", \"failureMessage\": \"\", \"exceptionClass\": \"\", \"trace\": \"\"}}, \"*\")"
      ],
      "text/plain": [
       "<IPython.core.display.Javascript object>"
      ]
     },
     "metadata": {},
     "output_type": "display_data"
    },
    {
     "data": {
      "text/markdown": [
       "<span style=\"color:#33cc33\">Correct</span>"
      ],
      "text/plain": [
       "Correct"
      ]
     },
     "metadata": {},
     "output_type": "display_data"
    }
   ],
   "source": [
    "predictions = iowa_model.predict(X)\n",
    "print(predictions)\n",
    "\n",
    "# Check your answer\n",
    "step_4.check()"
   ]
  },
  {
   "cell_type": "code",
   "execution_count": 11,
   "id": "857e7f3c",
   "metadata": {
    "collapsed": true,
    "execution": {
     "iopub.execute_input": "2022-03-31T07:12:49.863681Z",
     "iopub.status.busy": "2022-03-31T07:12:49.862989Z",
     "iopub.status.idle": "2022-03-31T07:12:49.866243Z",
     "shell.execute_reply": "2022-03-31T07:12:49.866895Z"
    },
    "jupyter": {
     "outputs_hidden": true
    },
    "papermill": {
     "duration": 0.034939,
     "end_time": "2022-03-31T07:12:49.867082",
     "exception": false,
     "start_time": "2022-03-31T07:12:49.832143",
     "status": "completed"
    },
    "tags": []
   },
   "outputs": [],
   "source": [
    "# step_4.hint()\n",
    "# step_4.solution()"
   ]
  },
  {
   "cell_type": "markdown",
   "id": "d5498a0c",
   "metadata": {
    "papermill": {
     "duration": 0.027882,
     "end_time": "2022-03-31T07:12:49.923431",
     "exception": false,
     "start_time": "2022-03-31T07:12:49.895549",
     "status": "completed"
    },
    "tags": []
   },
   "source": [
    "## Think About Your Results\n",
    "\n",
    "Use the `head` method to compare the top few predictions to the actual home values (in `y`) for those same homes. Anything surprising?\n"
   ]
  },
  {
   "cell_type": "code",
   "execution_count": 12,
   "id": "e6eef4f3",
   "metadata": {
    "execution": {
     "iopub.execute_input": "2022-03-31T07:12:49.983655Z",
     "iopub.status.busy": "2022-03-31T07:12:49.982964Z",
     "iopub.status.idle": "2022-03-31T07:12:49.990846Z",
     "shell.execute_reply": "2022-03-31T07:12:49.991356Z",
     "shell.execute_reply.started": "2022-03-31T07:11:06.277864Z"
    },
    "papermill": {
     "duration": 0.039525,
     "end_time": "2022-03-31T07:12:49.991574",
     "exception": false,
     "start_time": "2022-03-31T07:12:49.952049",
     "status": "completed"
    },
    "tags": []
   },
   "outputs": [
    {
     "data": {
      "text/plain": [
       "array([208500., 181500., 223500., 140000., 250000.])"
      ]
     },
     "execution_count": 12,
     "metadata": {},
     "output_type": "execute_result"
    }
   ],
   "source": [
    "# You can write code in this cell\n",
    "iowa_model.predict(X.head())"
   ]
  },
  {
   "cell_type": "markdown",
   "id": "5781aea8",
   "metadata": {
    "papermill": {
     "duration": 0.028696,
     "end_time": "2022-03-31T07:12:50.049705",
     "exception": false,
     "start_time": "2022-03-31T07:12:50.021009",
     "status": "completed"
    },
    "tags": []
   },
   "source": [
    "It's natural to ask how accurate the model's predictions will be and how you can improve that. That will be you're next step.\n",
    "\n",
    "# Keep Going\n",
    "\n",
    "You are ready for **[Model Validation](https://www.kaggle.com/dansbecker/model-validation).**\n"
   ]
  },
  {
   "cell_type": "markdown",
   "id": "2a9e8de7",
   "metadata": {
    "papermill": {
     "duration": 0.028462,
     "end_time": "2022-03-31T07:12:50.107030",
     "exception": false,
     "start_time": "2022-03-31T07:12:50.078568",
     "status": "completed"
    },
    "tags": []
   },
   "source": [
    "---\n",
    "\n",
    "\n",
    "\n",
    "\n",
    "*Have questions or comments? Visit the [course discussion forum](https://www.kaggle.com/learn/intro-to-machine-learning/discussion) to chat with other learners.*"
   ]
  }
 ],
 "metadata": {
  "kernelspec": {
   "display_name": "Python 3",
   "language": "python",
   "name": "python3"
  },
  "language_info": {
   "codemirror_mode": {
    "name": "ipython",
    "version": 3
   },
   "file_extension": ".py",
   "mimetype": "text/x-python",
   "name": "python",
   "nbconvert_exporter": "python",
   "pygments_lexer": "ipython3",
   "version": "3.7.12"
  },
  "papermill": {
   "default_parameters": {},
   "duration": 13.034948,
   "end_time": "2022-03-31T07:12:51.048962",
   "environment_variables": {},
   "exception": null,
   "input_path": "__notebook__.ipynb",
   "output_path": "__notebook__.ipynb",
   "parameters": {},
   "start_time": "2022-03-31T07:12:38.014014",
   "version": "2.3.3"
  }
 },
 "nbformat": 4,
 "nbformat_minor": 5
}
